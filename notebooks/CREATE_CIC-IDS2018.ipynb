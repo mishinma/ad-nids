{
 "cells": [
  {
   "cell_type": "code",
   "execution_count": 1,
   "metadata": {
    "scrolled": true
   },
   "outputs": [
    {
     "name": "stderr",
     "output_type": "stream",
     "text": [
      "ERROR:fbprophet:Importing plotly failed. Interactive plots will not work.\n"
     ]
    }
   ],
   "source": [
    "from pathlib import Path\n",
    "\n",
    "import pandas as pd\n",
    "import numpy as np\n",
    "from IPython.display import display\n",
    "\n",
    "from ad_nids.process.datasets.cicids import download_cicids, \\\n",
    "    cleanup_cidids, create_mock_cicids, create_cicids_dataset"
   ]
  },
  {
   "cell_type": "code",
   "execution_count": 2,
   "metadata": {},
   "outputs": [],
   "source": [
    "data_path = Path('/data/')\n",
    "# data_path = Path('/home/emikmis/data/nids/')"
   ]
  },
  {
   "cell_type": "code",
   "execution_count": 3,
   "metadata": {},
   "outputs": [],
   "source": [
    "dataset_name = 'CSE-CIC-IDS2018'\n",
    "dataset_root_path = data_path/'datasets/'\n",
    "dataset_path = dataset_root_path/dataset_name"
   ]
  },
  {
   "cell_type": "markdown",
   "metadata": {},
   "source": [
    "# Download & Clean up"
   ]
  },
  {
   "cell_type": "code",
   "execution_count": 7,
   "metadata": {},
   "outputs": [
    {
     "name": "stderr",
     "output_type": "stream",
     "text": [
      "INFO:root:Downloading the dataset\n"
     ]
    }
   ],
   "source": [
    "download_cicids(dataset_path)"
   ]
  },
  {
   "cell_type": "code",
   "execution_count": 9,
   "metadata": {
    "scrolled": true
   },
   "outputs": [
    {
     "name": "stderr",
     "output_type": "stream",
     "text": [
      "INFO:root:Cleaning up the data\n",
      "/usr/local/lib/python3.7/site-packages/IPython/core/interactiveshell.py:3242: DtypeWarning: Columns (16,17) have mixed types. Specify dtype option on import or set low_memory=False.\n",
      "  if (await self.run_code(code, result,  async_=asy)):\n",
      "/usr/local/lib/python3.7/site-packages/IPython/core/interactiveshell.py:3242: DtypeWarning: Columns (16) have mixed types. Specify dtype option on import or set low_memory=False.\n",
      "  if (await self.run_code(code, result,  async_=asy)):\n",
      "/usr/local/lib/python3.7/site-packages/IPython/core/interactiveshell.py:3242: DtypeWarning: Columns (0,1,3,4,5,6,7,8,9,10,11,12,13,14,15,16,17,18,19,20,21,22,23,24,25,26,27,28,29,30,31,32,33,34,35,36,37,38,39,40,41,42,43,44,45,46,47,48,49,50,51,52,53,54,55,56,57,58,59,60,61,62,63,64,65,66,67,68,69,70,71,72,73,74,75,76,77,78) have mixed types. Specify dtype option on import or set low_memory=False.\n",
      "  if (await self.run_code(code, result,  async_=asy)):\n",
      "/usr/local/lib/python3.7/site-packages/IPython/core/interactiveshell.py:3242: DtypeWarning: Columns (0,1,3,4,5,6,7,8,9,10,11,12,13,14,15,16,18,19,20,21,22,23,24,25,26,27,28,29,30,31,32,33,34,35,36,37,38,39,40,41,42,43,44,45,46,47,48,49,50,51,52,53,54,55,56,57,58,59,60,61,62,63,64,65,66,67,68,69,70,71,72,73,74,75,76,77,78) have mixed types. Specify dtype option on import or set low_memory=False.\n",
      "  if (await self.run_code(code, result,  async_=asy)):\n",
      "/usr/local/lib/python3.7/site-packages/IPython/core/interactiveshell.py:3242: DtypeWarning: Columns (20,21) have mixed types. Specify dtype option on import or set low_memory=False.\n",
      "  if (await self.run_code(code, result,  async_=asy)):\n"
     ]
    }
   ],
   "source": [
    "cleanup_cidids(dataset_path)"
   ]
  },
  {
   "cell_type": "markdown",
   "metadata": {},
   "source": [
    "#  Create a Mock Dataset"
   ]
  },
  {
   "cell_type": "code",
   "execution_count": 4,
   "metadata": {},
   "outputs": [],
   "source": [
    "mock_dataset_root_path = data_path/'mock_datasets/'\n",
    "mock_dataset_path = mock_dataset_root_path/dataset_name"
   ]
  },
  {
   "cell_type": "code",
   "execution_count": 5,
   "metadata": {},
   "outputs": [],
   "source": [
    "mock_all_dates = ['21-02-2018', '22-02-2018']\n",
    "mock_train_dates = ['21-02-2018']\n",
    "mock_test_dates = ['22-02-2018']"
   ]
  },
  {
   "cell_type": "code",
   "execution_count": 6,
   "metadata": {},
   "outputs": [],
   "source": [
    "create_mock_cicids(dataset_path, mock_dataset_path,\n",
    "                   mock_dates=mock_all_dates)"
   ]
  },
  {
   "cell_type": "code",
   "execution_count": 7,
   "metadata": {},
   "outputs": [
    {
     "name": "stderr",
     "output_type": "stream",
     "text": [
      "INFO:root:Creating dataset CSE-CIC-IDS2018_TRAIN_0221_TEST_0222_ORIG...\n",
      "INFO:root:Done\n"
     ]
    }
   ],
   "source": [
    "mock_dset = create_cicids_dataset(mock_dataset_path, \n",
    "                                     train_dates=mock_train_dates,\n",
    "                                     test_dates=mock_test_dates)"
   ]
  },
  {
   "cell_type": "code",
   "execution_count": 68,
   "metadata": {},
   "outputs": [
    {
     "name": "stderr",
     "output_type": "stream",
     "text": [
      "INFO:root:Writing CSE-CIC-IDS2018_TRAIN_0221_TEST_0222_ORIG to /home/emikmis/data/nids/mock_processed\n",
      "INFO:root:Visualizing the data\n"
     ]
    }
   ],
   "source": [
    "mock_processed_path = data_path/'mock_processed'\n",
    "mock_dset.write_to(mock_processed_path, visualize=True)"
   ]
  },
  {
   "cell_type": "markdown",
   "metadata": {},
   "source": [
    "# Create a Real Dataset"
   ]
  },
  {
   "cell_type": "code",
   "execution_count": 4,
   "metadata": {
    "scrolled": true
   },
   "outputs": [
    {
     "name": "stdout",
     "output_type": "stream",
     "text": [
      "['01-03-2018', '02-03-2018', '14-02-2018', '15-02-2018', '16-02-2018', '20-02-2018', '21-02-2018', '22-02-2018', '23-02-2018', '28-02-2018']\n",
      "10\n"
     ]
    }
   ],
   "source": [
    "all_dates = sorted(\n",
    "    [p.name[:-len(p.suffix)] for p in dataset_path.iterdir()]\n",
    ")\n",
    "print(all_dates)\n",
    "print(len(all_dates))"
   ]
  },
  {
   "cell_type": "code",
   "execution_count": 5,
   "metadata": {},
   "outputs": [
    {
     "name": "stdout",
     "output_type": "stream",
     "text": [
      "Dataset 0:\n",
      "{'train': ['02-03-2018', '23-02-2018'], 'test': ['01-03-2018', '20-02-2018']}\n",
      "Dataset 1:\n",
      "{'train': ['01-03-2018', '02-03-2018'], 'test': ['20-02-2018', '23-02-2018']}\n",
      "Dataset 2:\n",
      "{'train': ['14-02-2018', '28-02-2018'], 'test': ['01-03-2018', '21-02-2018']}\n",
      "Dataset 3:\n",
      "{'train': ['02-03-2018', '22-02-2018'], 'test': ['14-02-2018', '21-02-2018']}\n",
      "Dataset 4:\n",
      "{'train': ['02-03-2018', '20-02-2018'], 'test': ['16-02-2018', '23-02-2018']}\n",
      "Dataset 5:\n",
      "{'train': ['14-02-2018', '23-02-2018'], 'test': ['20-02-2018', '22-02-2018']}\n",
      "Dataset 6:\n",
      "{'train': ['01-03-2018', '20-02-2018'], 'test': ['14-02-2018', '21-02-2018']}\n",
      "Dataset 7:\n",
      "{'train': ['16-02-2018', '23-02-2018'], 'test': ['02-03-2018', '15-02-2018']}\n",
      "Dataset 8:\n",
      "{'train': ['01-03-2018', '14-02-2018'], 'test': ['16-02-2018', '28-02-2018']}\n",
      "Dataset 9:\n",
      "{'train': ['14-02-2018', '16-02-2018'], 'test': ['01-03-2018', '22-02-2018']}\n"
     ]
    }
   ],
   "source": [
    "np.random.seed(42)\n",
    "\n",
    "num_datasets = 10\n",
    "num_train_dates = 2\n",
    "num_test_dates = 2\n",
    "\n",
    "datasets_dates = []\n",
    "for i in range(num_datasets):\n",
    "    sample_dates = np.random.choice(\n",
    "        all_dates, num_train_dates + num_test_dates, replace=False\n",
    "    )\n",
    "    dset_train_dates = sorted(sample_dates[:num_train_dates])\n",
    "    dset_test_dates = sorted(sample_dates[num_train_dates:])\n",
    "    datasets_dates.append({\n",
    "        'train': dset_train_dates,\n",
    "        'test': dset_test_dates\n",
    "    })\n",
    "\n",
    "for i, dset in enumerate(datasets_dates):\n",
    "    print(f'Dataset {i}:')\n",
    "    print(dset)"
   ]
  },
  {
   "cell_type": "code",
   "execution_count": 6,
   "metadata": {},
   "outputs": [
    {
     "name": "stdout",
     "output_type": "stream",
     "text": [
      "All train dates:  8\n",
      "All test dates:  10\n"
     ]
    }
   ],
   "source": [
    "all_train = set([t for dset in datasets_dates for t in dset['train']])\n",
    "print('All train dates: ', len(all_train))\n",
    "\n",
    "all_test = set([t for dset in datasets_dates for t in dset['test']])\n",
    "print('All test dates: ', len(all_test))"
   ]
  },
  {
   "cell_type": "code",
   "execution_count": null,
   "metadata": {},
   "outputs": [
    {
     "name": "stderr",
     "output_type": "stream",
     "text": [
      "INFO:root:Creating dataset CSE-CIC-IDS2018_TRAIN_0302-0223_TEST_0301-0220_ORIG...\n"
     ]
    },
    {
     "name": "stdout",
     "output_type": "stream",
     "text": [
      "Creating dataset {'train': ['02-03-2018', '23-02-2018'], 'test': ['01-03-2018', '20-02-2018']}\n"
     ]
    }
   ],
   "source": [
    "processed_path = data_path/'processed/cicids'\n",
    "for dates in datasets_dates:\n",
    "    print('Creating dataset {}'.format(dates))\n",
    "    dset = create_cicids_dataset(dataset_path, dates['train'], dates['test'], create_hash=False)\n",
    "    dset.write_to(processed_path, visualize=True)"
   ]
  }
 ],
 "metadata": {
  "kernelspec": {
   "display_name": "Python 3",
   "language": "python",
   "name": "python3"
  },
  "language_info": {
   "codemirror_mode": {
    "name": "ipython",
    "version": 3
   },
   "file_extension": ".py",
   "mimetype": "text/x-python",
   "name": "python",
   "nbconvert_exporter": "python",
   "pygments_lexer": "ipython3",
   "version": "3.7.5"
  }
 },
 "nbformat": 4,
 "nbformat_minor": 4
}
