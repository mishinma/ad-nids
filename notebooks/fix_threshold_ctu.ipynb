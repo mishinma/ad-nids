{
 "cells": [
  {
   "cell_type": "code",
   "execution_count": 1,
   "metadata": {},
   "outputs": [],
   "source": [
    "import json\n",
    "import os\n",
    "from pathlib import Path\n",
    "\n",
    "import numpy as np\n",
    "import matplotlib.pyplot as plt\n",
    "\n",
    "from sklearn.metrics import confusion_matrix, precision_recall_fscore_support\n",
    "\n",
    "from ad_nids.utils import precision_recall_curve_scores, \\\n",
    "    plot_precision_recall, select_threshold, plot_f1score\n"
   ]
  },
  {
   "cell_type": "code",
   "execution_count": 2,
   "metadata": {},
   "outputs": [],
   "source": [
    "log_root_path = Path('/home/emikmis/data/nids/logs_isolation_forest_ctu/')"
   ]
  },
  {
   "cell_type": "code",
   "execution_count": 3,
   "metadata": {},
   "outputs": [],
   "source": [
    "THRESHOLDS = [0.01, 0.02, 0.05, 0.1, 0.15, 0.2, 0.5, 1, 2, 3, 5, 10]"
   ]
  },
  {
   "cell_type": "code",
   "execution_count": 10,
   "metadata": {},
   "outputs": [],
   "source": [
    "def recalculate_threshold(log_path):\n",
    "    \n",
    "    with open(log_path / 'eval_results.json', 'r') as f:\n",
    "        results = json.load(f)\n",
    "    \n",
    "    train_score = np.array(results['train_score'])\n",
    "    y_train = np.array(results['y_train'])\n",
    "    train_prf1_curve = precision_recall_curve_scores(\n",
    "        y_train, train_score, \n",
    "        (100 - np.array(THRESHOLDS)).tolist())\n",
    "    \n",
    "    # plot train precision recall curve\n",
    "    fig, ax = plt.subplots(1, 1)\n",
    "    plot_precision_recall(\n",
    "        ax,\n",
    "        train_prf1_curve['precisions'], \n",
    "        train_prf1_curve['recalls'], \n",
    "        train_prf1_curve['threshold_percs']\n",
    "    )\n",
    "    fig.savefig(log_path/'train_pr_curve.png')\n",
    "    plt.close()\n",
    "\n",
    "    # plot train f1 score curve\n",
    "    fig, ax = plt.subplots(1, 1)\n",
    "    plot_f1score(\n",
    "        ax,\n",
    "        train_prf1_curve['f1scores'],\n",
    "        train_prf1_curve['threshold_percs']\n",
    "    )\n",
    "    fig.savefig(log_path / 'train_f1_curve.png')\n",
    "    plt.close()\n",
    "\n",
    "    upd_eval_results = {\n",
    "        'train_prf1_curve': train_prf1_curve,\n",
    "    }\n",
    "    \n",
    "    results.update(upd_eval_results)\n",
    "\n",
    "    with open(log_path/'eval_results.json', 'w') as f:\n",
    "        json.dump(results, f)"
   ]
  },
  {
   "cell_type": "code",
   "execution_count": 11,
   "metadata": {},
   "outputs": [
    {
     "name": "stdout",
     "output_type": "stream",
     "text": [
      "/home/emikmis/data/nids/logs_isolation_forest_ctu/2019-12-17_10-22-37-257037_conf_41c80_000\n",
      "/home/emikmis/data/nids/logs_isolation_forest_ctu/2019-12-17_10-29-54-974562_conf_695b6_000\n",
      "/home/emikmis/data/nids/logs_isolation_forest_ctu/2019-12-17_10-27-02-054278_conf_f604c_002\n",
      "/home/emikmis/data/nids/logs_isolation_forest_ctu/2019-12-17_10-38-21-827113_conf_695b6_002\n",
      "/home/emikmis/data/nids/logs_isolation_forest_ctu/2019-12-17_10-36-31-144971_conf_41c80_002\n",
      "/home/emikmis/data/nids/logs_isolation_forest_ctu/2019-12-17_10-24-19-694538_conf_f604c_001\n",
      "/home/emikmis/data/nids/logs_isolation_forest_ctu/2019-12-17_10-14-51-589097_conf_695b6_001\n",
      "/home/emikmis/data/nids/logs_isolation_forest_ctu/2019-12-17_10-34-59-801935_conf_41c80_001\n",
      "/home/emikmis/data/nids/logs_isolation_forest_ctu/2019-12-17_10-19-51-768394_conf_f604c_000\n"
     ]
    }
   ],
   "source": [
    "log_paths = [lp for lp in log_root_path.iterdir() if\n",
    "             lp.is_dir()]\n",
    "for log_path in log_paths:\n",
    "    print(log_path)\n",
    "    recalculate_threshold(log_path)"
   ]
  },
  {
   "cell_type": "code",
   "execution_count": null,
   "metadata": {},
   "outputs": [],
   "source": []
  }
 ],
 "metadata": {
  "kernelspec": {
   "display_name": "Python 3",
   "language": "python",
   "name": "python3"
  },
  "language_info": {
   "codemirror_mode": {
    "name": "ipython",
    "version": 3
   },
   "file_extension": ".py",
   "mimetype": "text/x-python",
   "name": "python",
   "nbconvert_exporter": "python",
   "pygments_lexer": "ipython3",
   "version": "3.6.9"
  }
 },
 "nbformat": 4,
 "nbformat_minor": 2
}
