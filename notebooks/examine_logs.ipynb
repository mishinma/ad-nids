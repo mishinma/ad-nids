{
 "cells": [
  {
   "cell_type": "code",
   "execution_count": null,
   "metadata": {},
   "outputs": [],
   "source": [
    "import json\n",
    "import os\n",
    "from pathlib import Path\n",
    "\n",
    "import json_tricks\n",
    "import numpy as np\n",
    "\n",
    "from alibi_detect.utils.saving import load_detector\n",
    "from alibi_detect.od import OutlierVAE\n",
    "from sklearn.preprocessing import StandardScaler\n",
    "\n",
    "from ad_nids.dataset import Dataset\n",
    "from ad_nids.ml import build_vae\n",
    "from ad_nids.utils.misc import jsonify"
   ]
  },
  {
   "cell_type": "code",
   "execution_count": null,
   "metadata": {},
   "outputs": [],
   "source": [
    "log_path = Path('/home/emikmis/data/nids/bad_logs/2019-12-20_09-55-58-952355_conf_f7f2b_002/')"
   ]
  },
  {
   "cell_type": "code",
   "execution_count": null,
   "metadata": {},
   "outputs": [],
   "source": [
    "list(log_path.iterdir())"
   ]
  },
  {
   "cell_type": "code",
   "execution_count": null,
   "metadata": {},
   "outputs": [],
   "source": [
    "with open(log_path/'config.json', 'r') as f:\n",
    "    config = json.load(f)"
   ]
  },
  {
   "cell_type": "code",
   "execution_count": null,
   "metadata": {},
   "outputs": [],
   "source": [
    "config"
   ]
  },
  {
   "cell_type": "code",
   "execution_count": null,
   "metadata": {},
   "outputs": [],
   "source": [
    "dataset_path = Path('/home/emikmis/data/nids/processed/CTU_13_TRAIN_2-9_TEST_3_5T_BASIC/')\n",
    "dataset = Dataset.from_path(dataset_path)\n",
    "\n",
    "normal_batch = dataset.create_outlier_batch(train=True, perc_outlier=0)\n",
    "X_train, y_train = normal_batch.data.astype(np.float32), normal_batch.target\n",
    "scaler = StandardScaler().fit(X_train)\n",
    "\n",
    "test_batch = dataset.create_outlier_batch(train=False, scaler=scaler)\n",
    "X_test, y_test = test_batch.data.astype(np.float32)[:100], test_batch.target[:100]"
   ]
  },
  {
   "cell_type": "code",
   "execution_count": null,
   "metadata": {},
   "outputs": [],
   "source": [
    "input_dim = X_train.shape[1]\n",
    "\n",
    "vae = build_vae(config['hidden_dim'], config['latent_dim'],\n",
    "                    config['num_hidden'], input_dim)\n",
    "od_new = OutlierVAE(threshold=0.0, vae=vae, score_type='mse',\n",
    "                latent_dim=config['latent_dim'], samples=config['samples'])"
   ]
  },
  {
   "cell_type": "code",
   "execution_count": null,
   "metadata": {},
   "outputs": [],
   "source": [
    "od = load_detector(str(log_path/'detector'))"
   ]
  },
  {
   "cell_type": "code",
   "execution_count": null,
   "metadata": {},
   "outputs": [],
   "source": [
    "preds = od.predict(X_test)"
   ]
  }
 ],
 "metadata": {
  "kernelspec": {
   "display_name": "Python 3",
   "language": "python",
   "name": "python3"
  },
  "language_info": {
   "codemirror_mode": {
    "name": "ipython",
    "version": 3
   },
   "file_extension": ".py",
   "mimetype": "text/x-python",
   "name": "python",
   "nbconvert_exporter": "python",
   "pygments_lexer": "ipython3",
   "version": "3.6.9"
  }
 },
 "nbformat": 4,
 "nbformat_minor": 2
}
