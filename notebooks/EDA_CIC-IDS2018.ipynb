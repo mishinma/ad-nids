{
 "cells": [
  {
   "cell_type": "code",
   "execution_count": 1,
   "metadata": {
    "scrolled": true
   },
   "outputs": [],
   "source": [
    "from pathlib import Path\n",
    "\n",
    "import pandas as pd\n",
    "import numpy as np\n",
    "from IPython.display import display\n",
    "\n",
    "from ad_nids.process.datasets.cicids import download_cicids, \\\n",
    "    cleanup_cidids, create_mock_cicids, create_cicids_dataset"
   ]
  },
  {
   "cell_type": "code",
   "execution_count": 2,
   "metadata": {},
   "outputs": [],
   "source": [
    "# data_path = Path('/data/')\n",
    "data_path = Path('/home/emikmis/data/nids/')"
   ]
  },
  {
   "cell_type": "code",
   "execution_count": 3,
   "metadata": {},
   "outputs": [],
   "source": [
    "dataset_name = 'CSE-CIC-IDS2018'\n",
    "dataset_root_path = data_path/'datasets/'\n",
    "dataset_path = dataset_root_path/dataset_name"
   ]
  },
  {
   "cell_type": "markdown",
   "metadata": {},
   "source": [
    "# Download & Clean up"
   ]
  },
  {
   "cell_type": "code",
   "execution_count": 7,
   "metadata": {},
   "outputs": [
    {
     "name": "stderr",
     "output_type": "stream",
     "text": [
      "INFO:root:Downloading the dataset\n"
     ]
    }
   ],
   "source": [
    "download_cicids(dataset_path)"
   ]
  },
  {
   "cell_type": "code",
   "execution_count": 9,
   "metadata": {
    "scrolled": true
   },
   "outputs": [
    {
     "name": "stderr",
     "output_type": "stream",
     "text": [
      "INFO:root:Cleaning up the data\n",
      "/usr/local/lib/python3.7/site-packages/IPython/core/interactiveshell.py:3242: DtypeWarning: Columns (16,17) have mixed types. Specify dtype option on import or set low_memory=False.\n",
      "  if (await self.run_code(code, result,  async_=asy)):\n",
      "/usr/local/lib/python3.7/site-packages/IPython/core/interactiveshell.py:3242: DtypeWarning: Columns (16) have mixed types. Specify dtype option on import or set low_memory=False.\n",
      "  if (await self.run_code(code, result,  async_=asy)):\n",
      "/usr/local/lib/python3.7/site-packages/IPython/core/interactiveshell.py:3242: DtypeWarning: Columns (0,1,3,4,5,6,7,8,9,10,11,12,13,14,15,16,17,18,19,20,21,22,23,24,25,26,27,28,29,30,31,32,33,34,35,36,37,38,39,40,41,42,43,44,45,46,47,48,49,50,51,52,53,54,55,56,57,58,59,60,61,62,63,64,65,66,67,68,69,70,71,72,73,74,75,76,77,78) have mixed types. Specify dtype option on import or set low_memory=False.\n",
      "  if (await self.run_code(code, result,  async_=asy)):\n",
      "/usr/local/lib/python3.7/site-packages/IPython/core/interactiveshell.py:3242: DtypeWarning: Columns (0,1,3,4,5,6,7,8,9,10,11,12,13,14,15,16,18,19,20,21,22,23,24,25,26,27,28,29,30,31,32,33,34,35,36,37,38,39,40,41,42,43,44,45,46,47,48,49,50,51,52,53,54,55,56,57,58,59,60,61,62,63,64,65,66,67,68,69,70,71,72,73,74,75,76,77,78) have mixed types. Specify dtype option on import or set low_memory=False.\n",
      "  if (await self.run_code(code, result,  async_=asy)):\n",
      "/usr/local/lib/python3.7/site-packages/IPython/core/interactiveshell.py:3242: DtypeWarning: Columns (20,21) have mixed types. Specify dtype option on import or set low_memory=False.\n",
      "  if (await self.run_code(code, result,  async_=asy)):\n"
     ]
    }
   ],
   "source": [
    "cleanup_cidids(dataset_path)"
   ]
  },
  {
   "cell_type": "markdown",
   "metadata": {},
   "source": [
    "#  Create a Mock Dataset"
   ]
  },
  {
   "cell_type": "code",
   "execution_count": 4,
   "metadata": {},
   "outputs": [],
   "source": [
    "mock_dataset_root_path = data_path/'mock_datasets/'\n",
    "mock_dataset_path = mock_dataset_root_path/dataset_name"
   ]
  },
  {
   "cell_type": "code",
   "execution_count": 5,
   "metadata": {},
   "outputs": [],
   "source": [
    "mock_all_dates = ['21-02-2018', '22-02-2018']\n",
    "mock_train_dates = ['21-02-2018']\n",
    "mock_test_dates = ['22-02-2018']"
   ]
  },
  {
   "cell_type": "code",
   "execution_count": 6,
   "metadata": {},
   "outputs": [],
   "source": [
    "create_mock_cicids(dataset_path, mock_dataset_path,\n",
    "                   mock_dates=mock_all_dates)"
   ]
  },
  {
   "cell_type": "code",
   "execution_count": 7,
   "metadata": {},
   "outputs": [
    {
     "name": "stderr",
     "output_type": "stream",
     "text": [
      "INFO:root:Creating dataset CSE-CIC-IDS2018_TRAIN_0221_TEST_0222_ORIG...\n",
      "INFO:root:Done\n"
     ]
    }
   ],
   "source": [
    "mock_dset = create_cicids_dataset(mock_dataset_path, \n",
    "                                     train_dates=mock_train_dates,\n",
    "                                     test_dates=mock_test_dates)"
   ]
  },
  {
   "cell_type": "code",
   "execution_count": 68,
   "metadata": {},
   "outputs": [
    {
     "name": "stderr",
     "output_type": "stream",
     "text": [
      "INFO:root:Writing CSE-CIC-IDS2018_TRAIN_0221_TEST_0222_ORIG to /home/emikmis/data/nids/mock_processed\n",
      "INFO:root:Visualizing the data\n"
     ]
    }
   ],
   "source": [
    "mock_processed_path = data_path/'mock_processed'\n",
    "mock_dset.write_to(mock_processed_path, visualize=True)"
   ]
  },
  {
   "cell_type": "markdown",
   "metadata": {},
   "source": [
    "# Create a Real Dataset"
   ]
  },
  {
   "cell_type": "code",
   "execution_count": 4,
   "metadata": {
    "scrolled": true
   },
   "outputs": [
    {
     "name": "stdout",
     "output_type": "stream",
     "text": [
      "['01-03-2018', '02-03-2018', '14-02-2018', '15-02-2018', '16-02-2018', '20-02-2018', '21-02-2018', '22-02-2018', '23-02-2018', '28-02-2018']\n",
      "10\n"
     ]
    }
   ],
   "source": [
    "all_dates = sorted(\n",
    "    [p.name[:-len(p.suffix)] for p in dataset_path.iterdir()]\n",
    ")\n",
    "print(all_dates)\n",
    "print(len(all_dates))"
   ]
  },
  {
   "cell_type": "code",
   "execution_count": 5,
   "metadata": {},
   "outputs": [
    {
     "name": "stdout",
     "output_type": "stream",
     "text": [
      "Train dates:  ['01-03-2018', '02-03-2018', '14-02-2018', '20-02-2018', '22-02-2018', '23-02-2018']\n",
      "Test dates:  ['15-02-2018', '16-02-2018', '21-02-2018', '28-02-2018']\n"
     ]
    }
   ],
   "source": [
    "np.random.seed(42)\n",
    "train_dates = sorted(np.random.choice(all_dates, 6, replace=False))\n",
    "test_dates = sorted(set(all_dates) - set(train_dates))\n",
    "\n",
    "print('Train dates: ', train_dates)\n",
    "print('Test dates: ', test_dates)"
   ]
  },
  {
   "cell_type": "code",
   "execution_count": 6,
   "metadata": {},
   "outputs": [],
   "source": [
    "train_dates = ['01-03-2018', '02-03-2018', '14-02-2018', '20-02-2018', '22-02-2018', '23-02-2018']\n",
    "test_dates = ['15-02-2018', '16-02-2018', '21-02-2018', '28-02-2018']"
   ]
  },
  {
   "cell_type": "code",
   "execution_count": null,
   "metadata": {},
   "outputs": [
    {
     "name": "stderr",
     "output_type": "stream",
     "text": [
      "INFO:root:Creating dataset CSE-CIC-IDS2018_TRAIN_0301-0302-0214-0220-0222-0223_TEST_0215-0216-0221-0228_ORIG...\n",
      "/home/ad-nids/ad_nids/process/datasets/cicids.py:137: SettingWithCopyWarning: \n",
      "A value is trying to be set on a copy of a slice from a DataFrame\n",
      "\n",
      "See the caveats in the documentation: http://pandas.pydata.org/pandas-docs/stable/user_guide/indexing.html#returning-a-view-versus-a-copy\n",
      "  train['target'][train_meta['label'].isin(CIC_IDS_ATTACK_LABELS)] = 1\n",
      "/home/ad-nids/ad_nids/process/datasets/cicids.py:143: SettingWithCopyWarning: \n",
      "A value is trying to be set on a copy of a slice from a DataFrame\n",
      "\n",
      "See the caveats in the documentation: http://pandas.pydata.org/pandas-docs/stable/user_guide/indexing.html#returning-a-view-versus-a-copy\n",
      "  test['target'][test_meta['label'].isin(CIC_IDS_ATTACK_LABELS)] = 1\n",
      "INFO:root:Done\n"
     ]
    }
   ],
   "source": [
    "dset = create_cicids_dataset(dataset_path, train_dates, test_dates)"
   ]
  },
  {
   "cell_type": "markdown",
   "metadata": {},
   "source": [
    "# Examine Flows Friday 02-03-2018"
   ]
  },
  {
   "cell_type": "code",
   "execution_count": null,
   "metadata": {},
   "outputs": [],
   "source": [
    "path.name[:-len(path.suffix)]"
   ]
  },
  {
   "cell_type": "code",
   "execution_count": null,
   "metadata": {},
   "outputs": [],
   "source": [
    "path = dataset_path/'02-03-2018.csv'\n",
    "flows = pd.read_csv(path)"
   ]
  },
  {
   "cell_type": "code",
   "execution_count": null,
   "metadata": {},
   "outputs": [],
   "source": [
    "na_rows = flows[flows.isna().any(axis=1)]\n",
    "print(na_rows.shape[0])\n",
    "\n",
    "na_col_cnt = na_rows.isna().sum()\n",
    "na_col_cnt = na_col_cnt[na_col_cnt > 0]\n",
    "display(na_col_cnt)"
   ]
  },
  {
   "cell_type": "code",
   "execution_count": null,
   "metadata": {},
   "outputs": [],
   "source": [
    "print('Protocol')\n",
    "flows['protocol'].value_counts()"
   ]
  },
  {
   "cell_type": "code",
   "execution_count": null,
   "metadata": {},
   "outputs": [],
   "source": [
    "print('Label')\n",
    "flows['label'].value_counts()"
   ]
  },
  {
   "cell_type": "markdown",
   "metadata": {},
   "source": [
    "# Examine ALL Flows"
   ]
  },
  {
   "cell_type": "code",
   "execution_count": null,
   "metadata": {
    "scrolled": true
   },
   "outputs": [],
   "source": [
    "all_flows = []\n",
    "for path in paths:\n",
    "    print(path)\n",
    "    all_flows.append(pd.read_csv(path))\n",
    "all_flows = pd.concat(all_flows)"
   ]
  },
  {
   "cell_type": "code",
   "execution_count": null,
   "metadata": {},
   "outputs": [],
   "source": []
  }
 ],
 "metadata": {
  "kernelspec": {
   "display_name": "Python 3",
   "language": "python",
   "name": "python3"
  },
  "language_info": {
   "codemirror_mode": {
    "name": "ipython",
    "version": 3
   },
   "file_extension": ".py",
   "mimetype": "text/x-python",
   "name": "python",
   "nbconvert_exporter": "python",
   "pygments_lexer": "ipython3",
   "version": "3.6.9"
  }
 },
 "nbformat": 4,
 "nbformat_minor": 4
}
