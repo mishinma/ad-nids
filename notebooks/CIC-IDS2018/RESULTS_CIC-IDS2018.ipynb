{
 "cells": [
  {
   "cell_type": "code",
   "execution_count": 18,
   "metadata": {},
   "outputs": [],
   "source": [
    "from pathlib import Path\n",
    "\n",
    "import pandas as pd\n",
    "import numpy as np\n",
    "from IPython.display import display\n",
    "from alibi_detect.utils.saving import load_detector\n",
    "\n",
    "from ad_nids.dataset import Dataset\n",
    "from ad_nids.utils.logging import log_preds"
   ]
  },
  {
   "cell_type": "code",
   "execution_count": 2,
   "metadata": {},
   "outputs": [],
   "source": [
    "# data_root = Path('/data/')\n",
    "data_root = Path('/home/emikmis/data/nids/')\n",
    "\n",
    "dataset_name = 'CSE-CIC-IDS2018_TRAIN_0301-0302-0214-0220-0222-0223_TEST_0215-0216-0221-0228_ORIG'\n",
    "dataset_path = data_root/'processed'/dataset_name"
   ]
  },
  {
   "cell_type": "code",
   "execution_count": 3,
   "metadata": {},
   "outputs": [],
   "source": [
    "dset = Dataset.from_path(dataset_path)"
   ]
  },
  {
   "cell_type": "code",
   "execution_count": 4,
   "metadata": {},
   "outputs": [],
   "source": [
    "def print_labels_stats(meta):\n",
    "    \n",
    "    labels = meta['label'].value_counts()\n",
    "\n",
    "    num_total = meta.shape[0]\n",
    "    num_normal = labels['Benign']\n",
    "    num_outlier = sum([labels[k] for k in labels.index if k != 'Benign'])\n",
    "    conamination_perc = num_outlier / num_total * 100\n",
    "\n",
    "    display(labels)\n",
    "\n",
    "    print('Normal: {}'.format(num_normal))\n",
    "    print('Outlier: {}'.format(num_outlier))\n",
    "    print('Conamination perc: {:.2f}'.format(conamination_perc))\n"
   ]
  },
  {
   "cell_type": "code",
   "execution_count": 5,
   "metadata": {
    "scrolled": false
   },
   "outputs": [
    {
     "name": "stdout",
     "output_type": "stream",
     "text": [
      "Train: \n"
     ]
    },
    {
     "data": {
      "text/plain": [
       "Benign                    11136826\n",
       "DDoS attacks-LOIC-HTTP      576191\n",
       "Bot                         286191\n",
       "FTP-BruteForce              193360\n",
       "SSH-Bruteforce              187589\n",
       "Infilteration                93063\n",
       "Brute Force -Web               611\n",
       "Brute Force -XSS               230\n",
       "SQL Injection                   87\n",
       "Name: label, dtype: int64"
      ]
     },
     "metadata": {},
     "output_type": "display_data"
    },
    {
     "name": "stdout",
     "output_type": "stream",
     "text": [
      "Normal: 11136826\n",
      "Outlier: 1337322\n",
      "Conamination perc: 10.72\n",
      "\n",
      "Test: \n"
     ]
    },
    {
     "data": {
      "text/plain": [
       "Benign                      2347882\n",
       "DDOS attack-HOIC             686012\n",
       "DoS attacks-Hulk             461912\n",
       "DoS attacks-SlowHTTPTest     139890\n",
       "Infilteration                 68871\n",
       "DoS attacks-GoldenEye         41508\n",
       "DoS attacks-Slowloris         10990\n",
       "DDOS attack-LOIC-UDP           1730\n",
       "Name: label, dtype: int64"
      ]
     },
     "metadata": {},
     "output_type": "display_data"
    },
    {
     "name": "stdout",
     "output_type": "stream",
     "text": [
      "Normal: 2347882\n",
      "Outlier: 1410913\n",
      "Conamination perc: 37.54\n"
     ]
    }
   ],
   "source": [
    "print('Train: ')\n",
    "print_labels_stats(dset.train_meta)\n",
    "print()\n",
    "\n",
    "print('Test: ')\n",
    "print_labels_stats(dset.test_meta)"
   ]
  },
  {
   "cell_type": "markdown",
   "metadata": {},
   "source": [
    "# Evaluate model"
   ]
  },
  {
   "cell_type": "code",
   "execution_count": 6,
   "metadata": {},
   "outputs": [],
   "source": [
    "# train_targets = dset.train.iloc[:, -1].values\n",
    "# train_data = dset.train.iloc[:, :-1].values.astype(np.float32)\n",
    "\n",
    "# test_targets = dset.test.iloc[:, -1].values\n",
    "# test_data = dset.test.iloc[:, :-1].values.astype(np.float32)"
   ]
  },
  {
   "cell_type": "code",
   "execution_count": 6,
   "metadata": {},
   "outputs": [],
   "source": [
    "log_root = data_root/'logs'\n",
    "log_path = log_root/'cicids'/'2020-01-13_12-18-25-540252_conf_e2072_000'"
   ]
  },
  {
   "cell_type": "code",
   "execution_count": 7,
   "metadata": {},
   "outputs": [
    {
     "name": "stdout",
     "output_type": "stream",
     "text": [
      "WARNING:tensorflow:No training configuration found in save file: the model was *not* compiled. Compile it manually.\n"
     ]
    },
    {
     "name": "stderr",
     "output_type": "stream",
     "text": [
      "WARNING:tensorflow:No training configuration found in save file: the model was *not* compiled. Compile it manually.\n"
     ]
    },
    {
     "name": "stdout",
     "output_type": "stream",
     "text": [
      "WARNING:tensorflow:No training configuration found in save file: the model was *not* compiled. Compile it manually.\n"
     ]
    },
    {
     "name": "stderr",
     "output_type": "stream",
     "text": [
      "WARNING:tensorflow:No training configuration found in save file: the model was *not* compiled. Compile it manually.\n"
     ]
    }
   ],
   "source": [
    "od = load_detector(log_path/'detector')"
   ]
  },
  {
   "cell_type": "code",
   "execution_count": 8,
   "metadata": {},
   "outputs": [
    {
     "name": "stderr",
     "output_type": "stream",
     "text": [
      "/home/emikmis/dev/alibi-detect/alibi_detect/od/ae.py:237: RuntimeWarning:\n",
      "\n",
      "invalid value encountered in greater\n",
      "\n"
     ]
    }
   ],
   "source": [
    "train_data = dset.train.iloc[:, :-1].values.astype(np.float32)\n",
    "X_train_pred = od.predict(train_data)  "
   ]
  },
  {
   "cell_type": "code",
   "execution_count": 20,
   "metadata": {},
   "outputs": [],
   "source": [
    "y_train = dset.train.iloc[:, -1].values\n",
    "log_preds(log_path, 'train', X_train_pred, y_train)"
   ]
  },
  {
   "cell_type": "code",
   "execution_count": 23,
   "metadata": {},
   "outputs": [
    {
     "name": "stdout",
     "output_type": "stream",
     "text": [
      "eval.npz  events.out.tfevents.1578939957.58cfb3adddf5.21.155068018.v2\r\n"
     ]
    }
   ],
   "source": [
    "ls {log_path/'train'}"
   ]
  },
  {
   "cell_type": "code",
   "execution_count": null,
   "metadata": {},
   "outputs": [],
   "source": []
  }
 ],
 "metadata": {
  "kernelspec": {
   "display_name": "Python 3",
   "language": "python",
   "name": "python3"
  },
  "language_info": {
   "codemirror_mode": {
    "name": "ipython",
    "version": 3
   },
   "file_extension": ".py",
   "mimetype": "text/x-python",
   "name": "python",
   "nbconvert_exporter": "python",
   "pygments_lexer": "ipython3",
   "version": "3.6.9"
  }
 },
 "nbformat": 4,
 "nbformat_minor": 2
}
