{
 "cells": [
  {
   "cell_type": "code",
   "execution_count": 11,
   "metadata": {},
   "outputs": [],
   "source": [
    "from pathlib import Path\n",
    "\n",
    "import pandas as pd\n",
    "import numpy as np\n",
    "\n",
    "from IPython.display import display"
   ]
  },
  {
   "cell_type": "code",
   "execution_count": 2,
   "metadata": {},
   "outputs": [],
   "source": [
    "# data_path = Path('/data/')\n",
    "data_path = Path('/home/emikmis/data/nids/')\n",
    "\n",
    "dataset_name = 'CSE-CIC-IDS2018'\n",
    "dataset_root_path = data_path/'datasets/'\n",
    "dataset_path = dataset_root_path/dataset_name"
   ]
  },
  {
   "cell_type": "markdown",
   "metadata": {},
   "source": [
    "# Examine Flows "
   ]
  },
  {
   "cell_type": "code",
   "execution_count": 5,
   "metadata": {},
   "outputs": [],
   "source": [
    "date = '15-02-2018'"
   ]
  },
  {
   "cell_type": "code",
   "execution_count": 9,
   "metadata": {},
   "outputs": [],
   "source": [
    "flow_path = (dataset_path/date).with_suffix('.csv')\n",
    "flows = pd.read_csv(flow_path)"
   ]
  },
  {
   "cell_type": "code",
   "execution_count": 26,
   "metadata": {
    "scrolled": true
   },
   "outputs": [
    {
     "data": {
      "text/plain": [
       "Benign                   996077\n",
       "DoS attacks-GoldenEye     41508\n",
       "DoS attacks-Slowloris     10990\n",
       "Name: label, dtype: int64"
      ]
     },
     "metadata": {},
     "output_type": "display_data"
    },
    {
     "name": "stdout",
     "output_type": "stream",
     "text": [
      "Normal: 996077\n",
      "Outlier: 52498\n",
      "Conamination perc: 5.01\n"
     ]
    }
   ],
   "source": [
    "labels = flows['label'].value_counts()\n",
    "\n",
    "num_total = flows.shape[0]\n",
    "num_normal = labels['Benign']\n",
    "num_outlier = sum([labels[k] for k in labels.index if k != 'Benign'])\n",
    "conamination_perc = num_outlier / flows.shape[0] * 100\n",
    "\n",
    "display(labels)\n",
    "\n",
    "print('Normal: {}'.format(num_normal))\n",
    "print('Outlier: {}'.format(num_outlier))\n",
    "print('Conamination perc: {:.2f}'.format(conamination_perc))\n"
   ]
  },
  {
   "cell_type": "code",
   "execution_count": null,
   "metadata": {},
   "outputs": [],
   "source": []
  }
 ],
 "metadata": {
  "kernelspec": {
   "display_name": "Python 3",
   "language": "python",
   "name": "python3"
  },
  "language_info": {
   "codemirror_mode": {
    "name": "ipython",
    "version": 3
   },
   "file_extension": ".py",
   "mimetype": "text/x-python",
   "name": "python",
   "nbconvert_exporter": "python",
   "pygments_lexer": "ipython3",
   "version": "3.6.9"
  }
 },
 "nbformat": 4,
 "nbformat_minor": 4
}
